{
 "cells": [
  {
   "cell_type": "markdown",
   "metadata": {
    "id": "eq6QTVCx8Inp"
   },
   "source": [
    "# Fully Convolutional Networks for Change Detection\n",
    "\n",
    "*(Adapted version to PRISMA datasets)*\n",
    "\n",
    "Example code for training the network presented in the paper:\n",
    "\n",
    "```\n",
    "Daudt, R.C., Le Saux, B. and Boulch, A., 2018, October. Fully convolutional siamese networks for change detection. In 2018 25th IEEE International Conference on Image Processing (ICIP) (pp. 4063-4067). IEEE.\n",
    "```\n",
    "\n",
    "Code uses the OSCD dataset:\n",
    "\n",
    "```\n",
    "Daudt, R.C., Le Saux, B., Boulch, A. and Gousseau, Y., 2018, July. Urban change detection for multispectral earth observation using convolutional neural networks. In IGARSS 2018-2018 IEEE International Geoscience and Remote Sensing Symposium (pp. 2115-2118). IEEE.\n",
    "```\n",
    "\n",
    "\n",
    "FresUNet architecture from paper:\n",
    "\n",
    "```\n",
    "Daudt, R.C., Le Saux, B., Boulch, A. and Gousseau, Y., 2019. Multitask learning for large-scale semantic change detection. Computer Vision and Image Understanding, 187, p.102783.\n",
    "```\n",
    "\n",
    "Please consider all relevant papers if you use this code."
   ]
  },
  {
   "cell_type": "code",
   "execution_count": 1,
   "metadata": {
    "executionInfo": {
     "elapsed": 10,
     "status": "ok",
     "timestamp": 1662467819371,
     "user": {
      "displayName": "Juan Amieva",
      "userId": "03461442106805226698"
     },
     "user_tz": -120
    },
    "id": "egXbtQar8Inu"
   },
   "outputs": [],
   "source": [
    "# Rodrigo Daudt\n",
    "# rcdaudt.github.io\n",
    "# rodrigo.daudt@onera.fr"
   ]
  },
  {
   "cell_type": "code",
   "execution_count": 2,
   "metadata": {
    "colab": {
     "base_uri": "https://localhost:8080/"
    },
    "executionInfo": {
     "elapsed": 1067,
     "status": "ok",
     "timestamp": 1662467820429,
     "user": {
      "displayName": "Juan Amieva",
      "userId": "03461442106805226698"
     },
     "user_tz": -120
    },
    "id": "D8PNFYOl8ZP3",
    "outputId": "4c2a69b3-c834-45f7-ae9d-a212cb6e6441"
   },
   "outputs": [
    {
     "name": "stdout",
     "output_type": "stream",
     "text": [
      "Cloning into 'fully_convolutional_change_detection'...\n",
      "remote: Enumerating objects: 17, done.\u001b[K\n",
      "remote: Total 17 (delta 0), reused 0 (delta 0), pack-reused 17\u001b[K\n",
      "Unpacking objects: 100% (17/17), done.\n"
     ]
    }
   ],
   "source": [
    "!git clone https://github.com/fserva2/fully_convolutional_change_detection # FS"
   ]
  },
  {
   "cell_type": "code",
   "execution_count": 3,
   "metadata": {
    "executionInfo": {
     "elapsed": 17,
     "status": "ok",
     "timestamp": 1662467820431,
     "user": {
      "displayName": "Juan Amieva",
      "userId": "03461442106805226698"
     },
     "user_tz": -120
    },
    "id": "nUSIqufU8jx9"
   },
   "outputs": [],
   "source": [
    "import sys # FS\n",
    "sys.path.insert(0,'/content/fully_convolutional_change_detection')"
   ]
  },
  {
   "cell_type": "code",
   "execution_count": 4,
   "metadata": {
    "colab": {
     "base_uri": "https://localhost:8080/"
    },
    "executionInfo": {
     "elapsed": 4236,
     "status": "ok",
     "timestamp": 1662467824654,
     "user": {
      "displayName": "Juan Amieva",
      "userId": "03461442106805226698"
     },
     "user_tz": -120
    },
    "id": "QxFZRkp28Inv",
    "outputId": "cbf4185d-9a8b-4b62-896d-161a57fb35f2"
   },
   "outputs": [
    {
     "name": "stdout",
     "output_type": "stream",
     "text": [
      "IMPORTS OK\n"
     ]
    }
   ],
   "source": [
    "# Imports\n",
    "\n",
    "# PyTorch\n",
    "import torch\n",
    "import torch.nn as nn\n",
    "from torch.utils.data import Dataset, DataLoader\n",
    "from torch.autograd import Variable\n",
    "import torchvision.transforms as tr\n",
    "\n",
    "# Models\n",
    "from unet import Unet\n",
    "from siamunet_conc import SiamUnet_conc # not used in the current project\n",
    "from siamunet_diff import SiamUnet_diff # not used in the current project\n",
    "from fresunet import FresUNet # not used in the current project\n",
    "\n",
    "# Other\n",
    "import os\n",
    "import numpy as np\n",
    "import random\n",
    "from skimage import io\n",
    "from scipy.ndimage import zoom\n",
    "import matplotlib.pyplot as plt\n",
    "%matplotlib inline\n",
    "from tqdm import tqdm as tqdm\n",
    "from pandas import read_csv\n",
    "from math import floor, ceil, sqrt, exp\n",
    "from IPython import display\n",
    "import time\n",
    "from itertools import chain\n",
    "import time\n",
    "import warnings\n",
    "from pprint import pprint\n",
    "\n",
    "\n",
    "\n",
    "print('IMPORTS OK')\n"
   ]
  },
  {
   "cell_type": "code",
   "execution_count": 5,
   "metadata": {
    "colab": {
     "base_uri": "https://localhost:8080/"
    },
    "executionInfo": {
     "elapsed": 22318,
     "status": "ok",
     "timestamp": 1662467846949,
     "user": {
      "displayName": "Juan Amieva",
      "userId": "03461442106805226698"
     },
     "user_tz": -120
    },
    "id": "q7rHMeFM8Inw",
    "outputId": "559a89b7-56bd-4468-f98f-ed082405248e"
   },
   "outputs": [
    {
     "name": "stdout",
     "output_type": "stream",
     "text": [
      "Mounted at /content/drive\n"
     ]
    }
   ],
   "source": [
    "from google.colab import drive\n",
    "drive.mount('/content/drive')\n"
   ]
  },
  {
   "cell_type": "code",
   "execution_count": 6,
   "metadata": {
    "executionInfo": {
     "elapsed": 78,
     "status": "ok",
     "timestamp": 1662467846957,
     "user": {
      "displayName": "Juan Amieva",
      "userId": "03461442106805226698"
     },
     "user_tz": -120
    },
    "id": "3TX0F_h-WJ7G"
   },
   "outputs": [],
   "source": [
    "# Some output files will be saved in your drive storage"
   ]
  },
  {
   "cell_type": "code",
   "execution_count": 7,
   "metadata": {
    "colab": {
     "base_uri": "https://localhost:8080/"
    },
    "executionInfo": {
     "elapsed": 75,
     "status": "ok",
     "timestamp": 1662467846958,
     "user": {
      "displayName": "Juan Amieva",
      "userId": "03461442106805226698"
     },
     "user_tz": -120
    },
    "id": "vbgDTV2s_BzO",
    "outputId": "80f3d9e7-637a-465f-a29c-119a302f9163"
   },
   "outputs": [
    {
     "name": "stdout",
     "output_type": "stream",
     "text": [
      "'PRISMA - Images.zip'  'PRISMA - Test Labels.zip'  'PRISMA - Train Labels.zip'\n"
     ]
    }
   ],
   "source": [
    "!ls drive/MyDrive/PRISMA"
   ]
  },
  {
   "cell_type": "code",
   "execution_count": 8,
   "metadata": {
    "colab": {
     "base_uri": "https://localhost:8080/",
     "height": 70
    },
    "executionInfo": {
     "elapsed": 62,
     "status": "ok",
     "timestamp": 1662467846960,
     "user": {
      "displayName": "Juan Amieva",
      "userId": "03461442106805226698"
     },
     "user_tz": -120
    },
    "id": "QhXg_Mqb_XVm",
    "outputId": "028fbdac-210d-4b41-bbd0-495731d5059a"
   },
   "outputs": [
    {
     "data": {
      "application/vnd.google.colaboratory.intrinsic+json": {
       "type": "string"
      },
      "text/plain": [
       "'\\n!unzip \"drive/MyDrive/OSCD/Onera Satellite Change Detection dataset - Images.zip\"\\n!unzip \"drive/MyDrive/OSCD/Onera Satellite Change Detection dataset - Test Labels.zip\"\\n!unzip \"drive/MyDrive/OSCD/Onera Satellite Change Detection dataset - Train Labels.zip\"\\n'"
      ]
     },
     "execution_count": 8,
     "metadata": {},
     "output_type": "execute_result"
    }
   ],
   "source": [
    "\"\"\"\n",
    "!unzip \"drive/MyDrive/OSCD/Onera Satellite Change Detection dataset - Images.zip\"\n",
    "!unzip \"drive/MyDrive/OSCD/Onera Satellite Change Detection dataset - Test Labels.zip\"\n",
    "!unzip \"drive/MyDrive/OSCD/Onera Satellite Change Detection dataset - Train Labels.zip\"\n",
    "\"\"\""
   ]
  },
  {
   "cell_type": "code",
   "execution_count": 9,
   "metadata": {
    "colab": {
     "base_uri": "https://localhost:8080/"
    },
    "executionInfo": {
     "elapsed": 185268,
     "status": "ok",
     "timestamp": 1662468032174,
     "user": {
      "displayName": "Juan Amieva",
      "userId": "03461442106805226698"
     },
     "user_tz": -120
    },
    "id": "N9F6sMN-NeBf",
    "outputId": "04b0d8ec-ecb2-4293-b8f3-15a21a5ba845"
   },
   "outputs": [
    {
     "name": "stdout",
     "output_type": "stream",
     "text": [
      "Archive:  drive/MyDrive/PRISMA/PRISMA - Images.zip\n",
      "   creating: PRISMA - Images/\n",
      "  inflating: __MACOSX/._PRISMA - Images  \n",
      "  inflating: PRISMA - Images/.DS_Store  \n",
      "  inflating: __MACOSX/PRISMA - Images/._.DS_Store  \n",
      "  inflating: PRISMA - Images/all.txt  \n",
      "  inflating: __MACOSX/PRISMA - Images/._all.txt  \n",
      "   creating: PRISMA - Images/Aus_fire_01/\n",
      "   creating: PRISMA - Images/Aus_mine/\n",
      "   creating: PRISMA - Images/Be_01/\n",
      "  inflating: __MACOSX/PRISMA - Images/._Be_01  \n",
      "   creating: PRISMA - Images/Clark_reef/\n",
      "   creating: PRISMA - Images/Greece/\n",
      "  inflating: __MACOSX/PRISMA - Images/._Greece  \n",
      "   creating: PRISMA - Images/Ind_urb_riv/\n",
      "  inflating: __MACOSX/PRISMA - Images/._Ind_urb_riv  \n",
      "   creating: PRISMA - Images/Indo_01/\n",
      "   creating: PRISMA - Images/LA/\n",
      "  inflating: __MACOSX/PRISMA - Images/._LA  \n",
      "   creating: PRISMA - Images/Lagos_Nig/\n",
      "  inflating: __MACOSX/PRISMA - Images/._Lagos_Nig  \n",
      "   creating: PRISMA - Images/Lake_Frome/\n",
      "   creating: PRISMA - Images/London/\n",
      "  inflating: __MACOSX/PRISMA - Images/._London  \n",
      "   creating: PRISMA - Images/NY/\n",
      "  inflating: __MACOSX/PRISMA - Images/._NY  \n",
      "   creating: PRISMA - Images/Po_01/\n",
      "  inflating: __MACOSX/PRISMA - Images/._Po_01  \n",
      "  inflating: PRISMA - Images/README.txt  \n",
      "  inflating: __MACOSX/PRISMA - Images/._README.txt  \n",
      "   creating: PRISMA - Images/Rome_01/\n",
      "   creating: PRISMA - Images/Shanghai/\n",
      "  inflating: __MACOSX/PRISMA - Images/._Shanghai  \n",
      "  inflating: PRISMA - Images/test.txt  \n",
      "  inflating: __MACOSX/PRISMA - Images/._test.txt  \n",
      "  inflating: PRISMA - Images/train.txt  \n",
      "  inflating: __MACOSX/PRISMA - Images/._train.txt  \n",
      "  inflating: PRISMA - Images/Aus_fire_01/.DS_Store  \n",
      "  inflating: __MACOSX/PRISMA - Images/Aus_fire_01/._.DS_Store  \n",
      "   creating: PRISMA - Images/Aus_fire_01/imgs_1/\n",
      "   creating: PRISMA - Images/Aus_fire_01/imgs_2/\n",
      "  inflating: PRISMA - Images/Aus_mine/.DS_Store  \n",
      "  inflating: __MACOSX/PRISMA - Images/Aus_mine/._.DS_Store  \n",
      "   creating: PRISMA - Images/Aus_mine/imgs_1/\n",
      "   creating: PRISMA - Images/Aus_mine/imgs_2/\n",
      "   creating: PRISMA - Images/Be_01/imgs_1/\n",
      "  inflating: __MACOSX/PRISMA - Images/Be_01/._imgs_1  \n",
      "   creating: PRISMA - Images/Be_01/imgs_2/\n",
      "  inflating: __MACOSX/PRISMA - Images/Be_01/._imgs_2  \n",
      "  inflating: PRISMA - Images/Clark_reef/.DS_Store  \n",
      "  inflating: __MACOSX/PRISMA - Images/Clark_reef/._.DS_Store  \n",
      "   creating: PRISMA - Images/Clark_reef/imgs_1/\n",
      "   creating: PRISMA - Images/Clark_reef/imgs_2/\n",
      "   creating: PRISMA - Images/Greece/imgs_1/\n",
      "  inflating: __MACOSX/PRISMA - Images/Greece/._imgs_1  \n",
      "   creating: PRISMA - Images/Greece/imgs_2/\n",
      "  inflating: __MACOSX/PRISMA - Images/Greece/._imgs_2  \n",
      "   creating: PRISMA - Images/Ind_urb_riv/imgs_1/\n",
      "  inflating: __MACOSX/PRISMA - Images/Ind_urb_riv/._imgs_1  \n",
      "   creating: PRISMA - Images/Ind_urb_riv/imgs_2/\n",
      "  inflating: __MACOSX/PRISMA - Images/Ind_urb_riv/._imgs_2  \n",
      "  inflating: PRISMA - Images/Indo_01/.DS_Store  \n",
      "  inflating: __MACOSX/PRISMA - Images/Indo_01/._.DS_Store  \n",
      "   creating: PRISMA - Images/Indo_01/imgs_1/\n",
      "   creating: PRISMA - Images/Indo_01/imgs_2/\n",
      "   creating: PRISMA - Images/LA/imgs_1/\n",
      "  inflating: __MACOSX/PRISMA - Images/LA/._imgs_1  \n",
      "   creating: PRISMA - Images/LA/imgs_2/\n",
      "  inflating: __MACOSX/PRISMA - Images/LA/._imgs_2  \n",
      "   creating: PRISMA - Images/Lagos_Nig/imgs_1/\n",
      "  inflating: __MACOSX/PRISMA - Images/Lagos_Nig/._imgs_1  \n",
      "   creating: PRISMA - Images/Lagos_Nig/imgs_2/\n",
      "  inflating: __MACOSX/PRISMA - Images/Lagos_Nig/._imgs_2  \n",
      "  inflating: PRISMA - Images/Lake_Frome/.DS_Store  \n",
      "  inflating: __MACOSX/PRISMA - Images/Lake_Frome/._.DS_Store  \n",
      "   creating: PRISMA - Images/Lake_Frome/imgs_1/\n",
      "   creating: PRISMA - Images/Lake_Frome/imgs_2/\n",
      "   creating: PRISMA - Images/London/imgs_1/\n",
      "  inflating: __MACOSX/PRISMA - Images/London/._imgs_1  \n",
      "   creating: PRISMA - Images/London/imgs_2/\n",
      "  inflating: __MACOSX/PRISMA - Images/London/._imgs_2  \n",
      "   creating: PRISMA - Images/NY/imgs_1/\n",
      "  inflating: __MACOSX/PRISMA - Images/NY/._imgs_1  \n",
      "   creating: PRISMA - Images/NY/imgs_2/\n",
      "  inflating: __MACOSX/PRISMA - Images/NY/._imgs_2  \n",
      "   creating: PRISMA - Images/Po_01/imgs_1/\n",
      "  inflating: __MACOSX/PRISMA - Images/Po_01/._imgs_1  \n",
      "   creating: PRISMA - Images/Po_01/imgs_2/\n",
      "  inflating: __MACOSX/PRISMA - Images/Po_01/._imgs_2  \n",
      "  inflating: PRISMA - Images/Rome_01/.DS_Store  \n",
      "  inflating: __MACOSX/PRISMA - Images/Rome_01/._.DS_Store  \n",
      "   creating: PRISMA - Images/Rome_01/imgs_1/\n",
      "   creating: PRISMA - Images/Rome_01/imgs_2/\n",
      "   creating: PRISMA - Images/Shanghai/imgs_1/\n",
      "  inflating: __MACOSX/PRISMA - Images/Shanghai/._imgs_1  \n",
      "   creating: PRISMA - Images/Shanghai/imgs_2/\n",
      "  inflating: __MACOSX/PRISMA - Images/Shanghai/._imgs_2  \n",
      "  inflating: PRISMA - Images/Aus_fire_01/imgs_1/Aus_fire_01.npy  \n",
      "  inflating: PRISMA - Images/Aus_fire_01/imgs_2/Aus_fire_01.npy  \n",
      "  inflating: PRISMA - Images/Aus_mine/imgs_1/Aus_mine.npy  \n",
      "  inflating: PRISMA - Images/Aus_mine/imgs_2/Aus_mine.npy  \n",
      "  inflating: PRISMA - Images/Be_01/imgs_1/Be_01.npy  \n",
      "  inflating: __MACOSX/PRISMA - Images/Be_01/imgs_1/._Be_01.npy  \n",
      "  inflating: PRISMA - Images/Be_01/imgs_2/Be_01.npy  \n",
      "  inflating: __MACOSX/PRISMA - Images/Be_01/imgs_2/._Be_01.npy  \n",
      "  inflating: PRISMA - Images/Clark_reef/imgs_1/Clark_reef.npy  \n",
      "  inflating: PRISMA - Images/Clark_reef/imgs_2/Clark_reef.npy  \n",
      "  inflating: PRISMA - Images/Greece/imgs_1/Greece.npy  \n",
      "  inflating: __MACOSX/PRISMA - Images/Greece/imgs_1/._Greece.npy  \n",
      "  inflating: PRISMA - Images/Greece/imgs_2/Greece.npy  \n",
      "  inflating: __MACOSX/PRISMA - Images/Greece/imgs_2/._Greece.npy  \n",
      "  inflating: PRISMA - Images/Ind_urb_riv/imgs_1/Ind_urb_riv.npy  \n",
      "  inflating: __MACOSX/PRISMA - Images/Ind_urb_riv/imgs_1/._Ind_urb_riv.npy  \n",
      "  inflating: PRISMA - Images/Ind_urb_riv/imgs_2/Ind_urb_riv.npy  \n",
      "  inflating: __MACOSX/PRISMA - Images/Ind_urb_riv/imgs_2/._Ind_urb_riv.npy  \n",
      "  inflating: PRISMA - Images/Indo_01/imgs_1/Indo_01.npy  \n",
      "  inflating: PRISMA - Images/Indo_01/imgs_2/Indo_01.npy  \n",
      "  inflating: PRISMA - Images/LA/imgs_1/LA.npy  \n",
      "  inflating: __MACOSX/PRISMA - Images/LA/imgs_1/._LA.npy  \n",
      "  inflating: PRISMA - Images/LA/imgs_2/LA.npy  \n",
      "  inflating: __MACOSX/PRISMA - Images/LA/imgs_2/._LA.npy  \n",
      "  inflating: PRISMA - Images/Lagos_Nig/imgs_1/Lagos_Nig.npy  \n",
      "  inflating: __MACOSX/PRISMA - Images/Lagos_Nig/imgs_1/._Lagos_Nig.npy  \n",
      "  inflating: PRISMA - Images/Lagos_Nig/imgs_2/Lagos_Nig.npy  \n",
      "  inflating: __MACOSX/PRISMA - Images/Lagos_Nig/imgs_2/._Lagos_Nig.npy  \n",
      "  inflating: PRISMA - Images/Lake_Frome/imgs_1/Lake_Frome.npy  \n",
      "  inflating: PRISMA - Images/Lake_Frome/imgs_2/Lake_Frome.npy  \n",
      "  inflating: PRISMA - Images/London/imgs_1/London.npy  \n",
      "  inflating: __MACOSX/PRISMA - Images/London/imgs_1/._London.npy  \n",
      "  inflating: PRISMA - Images/London/imgs_2/London.npy  \n",
      "  inflating: __MACOSX/PRISMA - Images/London/imgs_2/._London.npy  \n",
      "  inflating: PRISMA - Images/NY/imgs_1/NY.npy  \n",
      "  inflating: __MACOSX/PRISMA - Images/NY/imgs_1/._NY.npy  \n",
      "  inflating: PRISMA - Images/NY/imgs_2/NY.npy  \n",
      "  inflating: __MACOSX/PRISMA - Images/NY/imgs_2/._NY.npy  \n",
      "  inflating: PRISMA - Images/Po_01/imgs_1/Po_01.npy  \n",
      "  inflating: __MACOSX/PRISMA - Images/Po_01/imgs_1/._Po_01.npy  \n",
      "  inflating: PRISMA - Images/Po_01/imgs_2/Po_01.npy  \n",
      "  inflating: __MACOSX/PRISMA - Images/Po_01/imgs_2/._Po_01.npy  \n",
      "  inflating: PRISMA - Images/Rome_01/imgs_1/Rome_01.npy  \n",
      "  inflating: PRISMA - Images/Rome_01/imgs_2/Rome_01.npy  \n",
      "  inflating: PRISMA - Images/Shanghai/imgs_1/Shanghai.npy  \n",
      "  inflating: __MACOSX/PRISMA - Images/Shanghai/imgs_1/._Shanghai.npy  \n",
      "  inflating: PRISMA - Images/Shanghai/imgs_2/Shanghai.npy  \n",
      "  inflating: __MACOSX/PRISMA - Images/Shanghai/imgs_2/._Shanghai.npy  \n",
      "Archive:  drive/MyDrive/PRISMA/PRISMA - Test Labels.zip\n",
      "   creating: PRISMA - Test Labels/\n",
      "  inflating: __MACOSX/._PRISMA - Test Labels  \n",
      "  inflating: PRISMA - Test Labels/.DS_Store  \n",
      "  inflating: __MACOSX/PRISMA - Test Labels/._.DS_Store  \n",
      "   creating: PRISMA - Test Labels/Aus_fire_01/\n",
      "   creating: PRISMA - Test Labels/Indo_01/\n",
      "   creating: PRISMA - Test Labels/Po_01/\n",
      "  inflating: __MACOSX/PRISMA - Test Labels/._Po_01  \n",
      "   creating: PRISMA - Test Labels/Shanghai/\n",
      "  inflating: __MACOSX/PRISMA - Test Labels/._Shanghai  \n",
      "  inflating: PRISMA - Test Labels/Aus_fire_01/.DS_Store  \n",
      "  inflating: __MACOSX/PRISMA - Test Labels/Aus_fire_01/._.DS_Store  \n",
      "   creating: PRISMA - Test Labels/Aus_fire_01/cm/\n",
      "  inflating: PRISMA - Test Labels/Indo_01/.DS_Store  \n",
      "  inflating: __MACOSX/PRISMA - Test Labels/Indo_01/._.DS_Store  \n",
      "   creating: PRISMA - Test Labels/Indo_01/cm/\n",
      "   creating: PRISMA - Test Labels/Po_01/cm/\n",
      "  inflating: __MACOSX/PRISMA - Test Labels/Po_01/._cm  \n",
      "  inflating: PRISMA - Test Labels/Shanghai/.DS_Store  \n",
      "  inflating: __MACOSX/PRISMA - Test Labels/Shanghai/._.DS_Store  \n",
      "   creating: PRISMA - Test Labels/Shanghai/cm/\n",
      "  inflating: __MACOSX/PRISMA - Test Labels/Shanghai/._cm  \n",
      "  inflating: PRISMA - Test Labels/Aus_fire_01/cm/cm.png  \n",
      "  inflating: __MACOSX/PRISMA - Test Labels/Aus_fire_01/cm/._cm.png  \n",
      "  inflating: PRISMA - Test Labels/Indo_01/cm/cm.png  \n",
      "  inflating: __MACOSX/PRISMA - Test Labels/Indo_01/cm/._cm.png  \n",
      "  inflating: PRISMA - Test Labels/Po_01/cm/cm.png  \n",
      "  inflating: __MACOSX/PRISMA - Test Labels/Po_01/cm/._cm.png  \n",
      "  inflating: PRISMA - Test Labels/Shanghai/cm/cm.png  \n",
      "  inflating: __MACOSX/PRISMA - Test Labels/Shanghai/cm/._cm.png  \n",
      "Archive:  drive/MyDrive/PRISMA/PRISMA - Train Labels.zip\n",
      "   creating: PRISMA - Train Labels/\n",
      "  inflating: __MACOSX/._PRISMA - Train Labels  \n",
      "  inflating: PRISMA - Train Labels/.DS_Store  \n",
      "  inflating: __MACOSX/PRISMA - Train Labels/._.DS_Store  \n",
      "   creating: PRISMA - Train Labels/Aus_mine/\n",
      "   creating: PRISMA - Train Labels/Be_01/\n",
      "  inflating: __MACOSX/PRISMA - Train Labels/._Be_01  \n",
      "   creating: PRISMA - Train Labels/Clark_reef/\n",
      "   creating: PRISMA - Train Labels/Greece/\n",
      "  inflating: __MACOSX/PRISMA - Train Labels/._Greece  \n",
      "   creating: PRISMA - Train Labels/Ind_urb_riv/\n",
      "  inflating: __MACOSX/PRISMA - Train Labels/._Ind_urb_riv  \n",
      "   creating: PRISMA - Train Labels/LA/\n",
      "  inflating: __MACOSX/PRISMA - Train Labels/._LA  \n",
      "   creating: PRISMA - Train Labels/Lagos_Nig/\n",
      "  inflating: __MACOSX/PRISMA - Train Labels/._Lagos_Nig  \n",
      "   creating: PRISMA - Train Labels/Lake_Frome/\n",
      "   creating: PRISMA - Train Labels/London/\n",
      "  inflating: __MACOSX/PRISMA - Train Labels/._London  \n",
      "   creating: PRISMA - Train Labels/NY/\n",
      "  inflating: __MACOSX/PRISMA - Train Labels/._NY  \n",
      "   creating: PRISMA - Train Labels/Rome_01/\n",
      "  inflating: PRISMA - Train Labels/Aus_mine/.DS_Store  \n",
      "  inflating: __MACOSX/PRISMA - Train Labels/Aus_mine/._.DS_Store  \n",
      "   creating: PRISMA - Train Labels/Aus_mine/cm/\n",
      "   creating: PRISMA - Train Labels/Be_01/cm/\n",
      "  inflating: __MACOSX/PRISMA - Train Labels/Be_01/._cm  \n",
      "  inflating: PRISMA - Train Labels/Clark_reef/.DS_Store  \n",
      "  inflating: __MACOSX/PRISMA - Train Labels/Clark_reef/._.DS_Store  \n",
      "   creating: PRISMA - Train Labels/Clark_reef/cm/\n",
      "   creating: PRISMA - Train Labels/Greece/cm/\n",
      "  inflating: __MACOSX/PRISMA - Train Labels/Greece/._cm  \n",
      "   creating: PRISMA - Train Labels/Ind_urb_riv/cm/\n",
      "  inflating: __MACOSX/PRISMA - Train Labels/Ind_urb_riv/._cm  \n",
      "   creating: PRISMA - Train Labels/LA/cm/\n",
      "  inflating: __MACOSX/PRISMA - Train Labels/LA/._cm  \n",
      "   creating: PRISMA - Train Labels/Lagos_Nig/cm/\n",
      "  inflating: __MACOSX/PRISMA - Train Labels/Lagos_Nig/._cm  \n",
      "  inflating: PRISMA - Train Labels/Lake_Frome/.DS_Store  \n",
      "  inflating: __MACOSX/PRISMA - Train Labels/Lake_Frome/._.DS_Store  \n",
      "   creating: PRISMA - Train Labels/Lake_Frome/cm/\n",
      "   creating: PRISMA - Train Labels/London/cm/\n",
      "  inflating: __MACOSX/PRISMA - Train Labels/London/._cm  \n",
      "   creating: PRISMA - Train Labels/NY/cm/\n",
      "  inflating: __MACOSX/PRISMA - Train Labels/NY/._cm  \n",
      "  inflating: PRISMA - Train Labels/Rome_01/.DS_Store  \n",
      "  inflating: __MACOSX/PRISMA - Train Labels/Rome_01/._.DS_Store  \n",
      "   creating: PRISMA - Train Labels/Rome_01/cm/\n",
      "  inflating: PRISMA - Train Labels/Aus_mine/cm/cm.png  \n",
      "  inflating: __MACOSX/PRISMA - Train Labels/Aus_mine/cm/._cm.png  \n",
      "  inflating: PRISMA - Train Labels/Be_01/cm/cm.png  \n",
      "  inflating: __MACOSX/PRISMA - Train Labels/Be_01/cm/._cm.png  \n",
      "  inflating: PRISMA - Train Labels/Clark_reef/cm/cm.png  \n",
      "  inflating: __MACOSX/PRISMA - Train Labels/Clark_reef/cm/._cm.png  \n",
      "  inflating: PRISMA - Train Labels/Greece/cm/cm.png  \n",
      "  inflating: __MACOSX/PRISMA - Train Labels/Greece/cm/._cm.png  \n",
      "  inflating: PRISMA - Train Labels/Ind_urb_riv/cm/cm.png  \n",
      "  inflating: __MACOSX/PRISMA - Train Labels/Ind_urb_riv/cm/._cm.png  \n",
      "  inflating: PRISMA - Train Labels/LA/cm/cm.png  \n",
      "  inflating: __MACOSX/PRISMA - Train Labels/LA/cm/._cm.png  \n",
      "  inflating: PRISMA - Train Labels/Lagos_Nig/cm/cm.png  \n",
      "  inflating: __MACOSX/PRISMA - Train Labels/Lagos_Nig/cm/._cm.png  \n",
      "  inflating: PRISMA - Train Labels/Lake_Frome/cm/cm.png  \n",
      "  inflating: __MACOSX/PRISMA - Train Labels/Lake_Frome/cm/._cm.png  \n",
      "  inflating: PRISMA - Train Labels/London/cm/cm.png  \n",
      "  inflating: __MACOSX/PRISMA - Train Labels/London/cm/._cm.png  \n",
      "  inflating: PRISMA - Train Labels/NY/cm/cm.png  \n",
      "  inflating: __MACOSX/PRISMA - Train Labels/NY/cm/._cm.png  \n",
      "  inflating: PRISMA - Train Labels/Rome_01/cm/cm.png  \n",
      "  inflating: __MACOSX/PRISMA - Train Labels/Rome_01/cm/._cm.png  \n"
     ]
    }
   ],
   "source": [
    "\n",
    "!unzip \"drive/MyDrive/PRISMA/PRISMA - Images.zip\"\n",
    "!unzip \"drive/MyDrive/PRISMA/PRISMA - Test Labels.zip\"\n",
    "!unzip \"drive/MyDrive/PRISMA/PRISMA - Train Labels.zip\"\n"
   ]
  },
  {
   "cell_type": "code",
   "execution_count": 10,
   "metadata": {
    "colab": {
     "base_uri": "https://localhost:8080/"
    },
    "executionInfo": {
     "elapsed": 103569,
     "status": "ok",
     "timestamp": 1662468135718,
     "user": {
      "displayName": "Juan Amieva",
      "userId": "03461442106805226698"
     },
     "user_tz": -120
    },
    "id": "NTlvnSsl_lKi",
    "outputId": "7020ea64-160a-4eb5-8ff9-7831f2e798ff"
   },
   "outputs": [
    {
     "name": "stdout",
     "output_type": "stream",
     "text": [
      " drive\t\t\t\t       'PRISMA - Images'\t sample_data\n",
      " fully_convolutional_change_detection  'PRISMA - Test Labels'\n",
      " __MACOSX\t\t\t       'PRISMA - Train Labels'\n",
      "all.txt      Clark_reef   LA\t      NY\t  Shanghai\n",
      "Aus_fire_01  Greece\t  Lagos_Nig   Po_01\t  test.txt\n",
      "Aus_mine     Indo_01\t  Lake_Frome  README.txt  train.txt\n",
      "Be_01\t     Ind_urb_riv  London      Rome_01\n"
     ]
    }
   ],
   "source": [
    "#!ls \"Onera Satellite Change Detection dataset - Images\"\n",
    "# Merge individual folders into one single folder used for input\n",
    "!ls\n",
    "!mkdir PRISMA\n",
    "!cp -rf PRISMA*/* PRISMA\n",
    "!ls PRISMA"
   ]
  },
  {
   "cell_type": "code",
   "execution_count": 11,
   "metadata": {
    "colab": {
     "base_uri": "https://localhost:8080/"
    },
    "executionInfo": {
     "elapsed": 40,
     "status": "ok",
     "timestamp": 1662468135721,
     "user": {
      "displayName": "Juan Amieva",
      "userId": "03461442106805226698"
     },
     "user_tz": -120
    },
    "id": "OBDtLmQv8Inx",
    "outputId": "1553aac1-7517-4e1c-e1b3-8bb24fb65347"
   },
   "outputs": [
    {
     "name": "stdout",
     "output_type": "stream",
     "text": [
      "DEFINITIONS OK\n"
     ]
    }
   ],
   "source": [
    "# Global Variables' Definitions\n",
    "\n",
    "PATH_TO_DATASET = './PRISMA/' \n",
    "IS_PROTOTYPE = False\n",
    "\n",
    "FP_MODIFIER = 1 # Tuning parameter, use 1 if unsure\n",
    "\n",
    "BATCH_SIZE = 11 #32\n",
    "PATCH_SIDE = 96 #96\n",
    "N_EPOCHS = 20 #73\n",
    "\n",
    "\n",
    "#230-7|170-5|120-3|80-2\n",
    "MAX_BAND_DATASET=80 # It depends on the dataset.\n",
    "PICK_EVERY_X_BAND=2\n",
    "MAX_BAND_SUBSET=int(round(MAX_BAND_DATASET/PICK_EVERY_X_BAND,0))\n",
    "\n",
    "NORMALISE_IMGS = True\n",
    "\n",
    "TRAIN_STRIDE = int(PATCH_SIDE/2) - 1\n",
    "\n",
    "LOAD_TRAINED = False\n",
    "\n",
    "DATA_AUG = True\n",
    "\n",
    "NWORKERS = 2 # FS, required to run on colab\n",
    "PATH_OUTPUTS = 'drive/MyDrive/PRISMA_outputs/'\n",
    "print('DEFINITIONS OK')"
   ]
  },
  {
   "cell_type": "code",
   "execution_count": 12,
   "metadata": {
    "executionInfo": {
     "elapsed": 741,
     "status": "ok",
     "timestamp": 1662468136432,
     "user": {
      "displayName": "Juan Amieva",
      "userId": "03461442106805226698"
     },
     "user_tz": -120
    },
    "id": "uU7IZiov_iOz"
   },
   "outputs": [],
   "source": [
    "\n",
    "def append_new_line(file_name, text_to_append):\n",
    "    \"\"\"Append given text as a new line at the end of file\"\"\"\n",
    "    # Open the file in append & read mode ('a+')\n",
    "    with open(file_name, \"a+\") as file_object:\n",
    "        # Move read cursor to the start of file.\n",
    "        file_object.seek(0)\n",
    "        # If file is not empty then append '\\n'\n",
    "        data = file_object.read()\n",
    "        if len(data) > 0:\n",
    "            file_object.write(\"\\n\")\n",
    "        # Append text at the end of file\n",
    "        file_object.write(text_to_append)\n",
    "\n",
    "file_name=PATH_OUTPUTS+'Report_exec.txt'\n",
    "#time = time.time()\n",
    "line=str(BATCH_SIZE)+' '+str(PATCH_SIDE)+' '+str(N_EPOCHS)+' '+str(MAX_BAND_DATASET)+' '+str(PICK_EVERY_X_BAND)+' '+str(MAX_BAND_SUBSET)\n",
    "append_new_line(file_name, line)"
   ]
  },
  {
   "cell_type": "code",
   "execution_count": 13,
   "metadata": {
    "colab": {
     "base_uri": "https://localhost:8080/"
    },
    "executionInfo": {
     "elapsed": 46,
     "status": "ok",
     "timestamp": 1662468136438,
     "user": {
      "displayName": "Juan Amieva",
      "userId": "03461442106805226698"
     },
     "user_tz": -120
    },
    "id": "WFEKOEEiYH7w",
    "outputId": "81387c87-fcc2-44a0-82f5-2361def0900c"
   },
   "outputs": [
    {
     "name": "stdout",
     "output_type": "stream",
     "text": [
      "UTILS OK\n"
     ]
    }
   ],
   "source": [
    "## UNCHANGED FROM ORIGINAL VERSION\n",
    "def adjust_shape(I, s):\n",
    "    \"\"\"Adjust shape of grayscale image I to s.\"\"\"\n",
    "    \n",
    "    # crop if necesary\n",
    "    I = I[:s[0],:s[1]]\n",
    "    si = I.shape\n",
    "    \n",
    "    # pad if necessary \n",
    "    p0 = max(0,s[0] - si[0])\n",
    "    p1 = max(0,s[1] - si[1])\n",
    "    \n",
    "    return np.pad(I,((0,p0),(0,p1)),'edge')\n",
    "\n",
    "def reshape_for_torch(I):\n",
    "    \"\"\"Transpose image for PyTorch coordinates.\"\"\"\n",
    "#     out = np.swapaxes(I,1,2)\n",
    "#     out = np.swapaxes(out,0,1)\n",
    "#     out = out[np.newaxis,:]\n",
    "    out = I.transpose((2, 0, 1))\n",
    "    return torch.from_numpy(out)\n",
    "\n",
    "## EDITED FUNCS TO READ DATA FROM PRISMA ################################\n",
    "\n",
    "def create_subset_vector(max_band=MAX_BAND_DATASET,pick=PICK_EVERY_X_BAND):\n",
    "    b=[]\n",
    "    a=np.arange(MAX_BAND_DATASET)\n",
    "    for idx,bands in enumerate(a):\n",
    "            if idx%PICK_EVERY_X_BAND==0:\n",
    "                c=1\n",
    "            else:\n",
    "                c=0\n",
    "            b.append(c)\n",
    "        #print(idx,b,idx%2)\n",
    "    b=np.array(b)\n",
    "    return b\n",
    "\n",
    "def read_prisma(path,subset):\n",
    "    \"\"\"Read cropped PRISMA image.\"\"\"\n",
    "    im_name = os.listdir(path)[0] #[:-7]\n",
    "    I = np.load(path + im_name)\n",
    "    I=I[:,:,:MAX_BAND_DATASET]\n",
    "    I=I[:,:,np.nonzero(subset)[0]] # subset the bands in the reading\n",
    "    if NORMALISE_IMGS:\n",
    "        I = (I - I.mean()) / I.std()\n",
    "\n",
    "    return I\n",
    "\n",
    "def read_prisma_trio(path):\n",
    "    \"\"\"Read cropped PRISMA image pair and change map.\"\"\"\n",
    "#     read images\n",
    "    subset_vector=create_subset_vector()\n",
    "    I1 = read_prisma(path + '/imgs_1/',subset_vector)\n",
    "    I2 = read_prisma(path + '/imgs_2/',subset_vector)  \n",
    "    cm = io.imread(path + '/cm/cm.png', as_gray=True) != 0\n",
    "    \n",
    "    return I1, I2, cm\n",
    "################################\n",
    "\n",
    "## UNCHANGED FROM ORIGINAL VERSION\n",
    "\n",
    "class RandomFlip(object):\n",
    "    \"\"\"Flip randomly the images in a sample.\"\"\"\n",
    "\n",
    "#     def __init__(self):\n",
    "#         return\n",
    "\n",
    "    def __call__(self, sample):\n",
    "        I1, I2, label = sample['I1'], sample['I2'], sample['label']\n",
    "        \n",
    "        if random.random() > 0.5:\n",
    "            I1 =  I1.numpy()[:,:,::-1].copy()\n",
    "            I1 = torch.from_numpy(I1)\n",
    "            I2 =  I2.numpy()[:,:,::-1].copy()\n",
    "            I2 = torch.from_numpy(I2)\n",
    "            label =  label.numpy()[:,::-1].copy()\n",
    "            label = torch.from_numpy(label)\n",
    "\n",
    "        return {'I1': I1, 'I2': I2, 'label': label}\n",
    "################################################################\n",
    "\n",
    "## EDITED VERSION OF CD-DATASET Class definition\n",
    "\n",
    "class ChangeDetectionDataset(Dataset):\n",
    "    \"\"\"Change Detection dataset class, used for both training and test data.\"\"\"\n",
    "\n",
    "    def __init__(self, path, train = True, patch_side = 512, stride = None, use_all_bands = True, transform=None):\n",
    "        \"\"\"\n",
    "        Args:\n",
    "            csv_file (string): Path to the csv file with annotations.\n",
    "            root_dir (string): Directory with all the images.\n",
    "            transform (callable, optional): Optional transform to be applied\n",
    "                on a sample.\n",
    "        \"\"\"\n",
    "        \n",
    "        # basics\n",
    "        self.transform = transform\n",
    "        self.path = path\n",
    "        self.patch_side = patch_side\n",
    "        if not stride:\n",
    "            self.stride = 1\n",
    "        else:\n",
    "            self.stride = stride\n",
    "        \n",
    "        if train:\n",
    "            fname = 'train.txt'\n",
    "        else:\n",
    "            fname = 'test.txt'\n",
    "        \n",
    "#         print(path + fname)\n",
    "        self.names = read_csv(path + fname).columns\n",
    "        self.n_imgs = self.names.shape[0]\n",
    "        \n",
    "        n_pix = 0\n",
    "        true_pix = 0\n",
    "        \n",
    "        \n",
    "        # load images\n",
    "        self.imgs_1 = {}\n",
    "        self.imgs_2 = {}\n",
    "        self.change_maps = {}\n",
    "        self.n_patches_per_image = {}\n",
    "        self.n_patches = 0\n",
    "        self.patch_coords = []\n",
    "        for im_name in tqdm(self.names):\n",
    "            # load and store each image\n",
    "            I1, I2, cm = read_prisma_trio(self.path + im_name)\n",
    "            self.imgs_1[im_name] = reshape_for_torch(I1)\n",
    "            self.imgs_2[im_name] = reshape_for_torch(I2)\n",
    "\n",
    "            ########################### CHECKING IF IT WORKS #######################################\n",
    "            #self.imgs_1[im_name] = I1\n",
    "            #self.imgs_2[im_name] = I2\n",
    "\n",
    "            #(IT DIDN´T WORK)\n",
    "            ##################################################################\n",
    "\n",
    "            self.change_maps[im_name] = cm\n",
    "            \n",
    "            s = cm.shape\n",
    "            n_pix += np.prod(s)\n",
    "            true_pix += cm.sum()\n",
    "            \n",
    "            # calculate the number of patches\n",
    "            s = self.imgs_1[im_name].shape\n",
    "            n1 = ceil((s[1] - self.patch_side + 1) / self.stride)\n",
    "            n2 = ceil((s[2] - self.patch_side + 1) / self.stride)\n",
    "            n_patches_i = n1 * n2\n",
    "            self.n_patches_per_image[im_name] = n_patches_i\n",
    "            self.n_patches += n_patches_i\n",
    "            \n",
    "            # generate path coordinates\n",
    "            for i in range(n1):\n",
    "                for j in range(n2):\n",
    "                    # coordinates in (x1, x2, y1, y2)\n",
    "                    current_patch_coords = (im_name, \n",
    "                                    [self.stride*i, self.stride*i + self.patch_side, self.stride*j, self.stride*j + self.patch_side],\n",
    "                                    [self.stride*(i + 1), self.stride*(j + 1)])\n",
    "                    self.patch_coords.append(current_patch_coords)\n",
    "                    \n",
    "        self.weights = [ FP_MODIFIER * 2 * true_pix / n_pix, 2 * (n_pix - true_pix) / n_pix]\n",
    "       \n",
    "        \n",
    "\n",
    "    def get_img(self, im_name):\n",
    "        return self.imgs_1[im_name], self.imgs_2[im_name], self.change_maps[im_name]\n",
    "\n",
    "    def __len__(self):\n",
    "        return self.n_patches\n",
    "\n",
    "    def __getitem__(self, idx):\n",
    "        current_patch_coords = self.patch_coords[idx]\n",
    "        im_name = current_patch_coords[0]\n",
    "        limits = current_patch_coords[1]\n",
    "        centre = current_patch_coords[2]\n",
    "        \n",
    "        I1 = self.imgs_1[im_name][:, limits[0]:limits[1], limits[2]:limits[3]]\n",
    "        I2 = self.imgs_2[im_name][:, limits[0]:limits[1], limits[2]:limits[3]]\n",
    "        \n",
    "        label = self.change_maps[im_name][limits[0]:limits[1], limits[2]:limits[3]]\n",
    "        label = torch.from_numpy(1*np.array(label)).float()\n",
    "        \n",
    "        sample = {'I1': I1, 'I2': I2, 'label': label}\n",
    "        \n",
    "        if self.transform:\n",
    "            sample = self.transform(sample)\n",
    "\n",
    "        return sample\n",
    "###############################################################################################\n",
    "\n",
    "## UNCHANGED FROM ORIGINAL VERSION\n",
    "\n",
    "class RandomRot(object):\n",
    "    \"\"\"Rotate randomly the images in a sample.\"\"\"\n",
    "\n",
    "#     def __init__(self):\n",
    "#         return\n",
    "\n",
    "    def __call__(self, sample):\n",
    "        I1, I2, label = sample['I1'], sample['I2'], sample['label']\n",
    "        \n",
    "        n = random.randint(0, 3)\n",
    "        if n:\n",
    "            I1 =  sample['I1'].numpy()\n",
    "            I1 = np.rot90(I1, n, axes=(1, 2)).copy()\n",
    "            I1 = torch.from_numpy(I1)\n",
    "            I2 =  sample['I2'].numpy()\n",
    "            I2 = np.rot90(I2, n, axes=(1, 2)).copy()\n",
    "            I2 = torch.from_numpy(I2)\n",
    "            label =  sample['label'].numpy()\n",
    "            label = np.rot90(label, n, axes=(0, 1)).copy()\n",
    "            label = torch.from_numpy(label)\n",
    "\n",
    "        return {'I1': I1, 'I2': I2, 'label': label}\n",
    "################################################################\n",
    "\n",
    "print('UTILS OK')"
   ]
  },
  {
   "cell_type": "code",
   "execution_count": 14,
   "metadata": {
    "colab": {
     "base_uri": "https://localhost:8080/"
    },
    "executionInfo": {
     "elapsed": 76946,
     "status": "ok",
     "timestamp": 1662468213344,
     "user": {
      "displayName": "Juan Amieva",
      "userId": "03461442106805226698"
     },
     "user_tz": -120
    },
    "id": "x9i8kofG8In1",
    "outputId": "e6e4b98d-db78-434d-fa5e-1c7592db1594"
   },
   "outputs": [
    {
     "name": "stderr",
     "output_type": "stream",
     "text": [
      "100%|██████████| 11/11 [00:53<00:00,  4.83s/it]\n"
     ]
    },
    {
     "name": "stdout",
     "output_type": "stream",
     "text": [
      "tensor([0.2000, 1.8000], device='cuda:0')\n"
     ]
    },
    {
     "name": "stderr",
     "output_type": "stream",
     "text": [
      "100%|██████████| 4/4 [00:19<00:00,  4.78s/it]"
     ]
    },
    {
     "name": "stdout",
     "output_type": "stream",
     "text": [
      "DATASETS OK\n"
     ]
    },
    {
     "name": "stderr",
     "output_type": "stream",
     "text": [
      "\n"
     ]
    }
   ],
   "source": [
    "# Dataset\n",
    "\n",
    "if DATA_AUG:\n",
    "    data_transform = tr.Compose([RandomFlip(), RandomRot()])\n",
    "else:\n",
    "    data_transform = None\n",
    "        \n",
    "\n",
    "train_dataset = ChangeDetectionDataset(PATH_TO_DATASET, train = True, stride = TRAIN_STRIDE, transform=data_transform)\n",
    "weights = torch.FloatTensor(train_dataset.weights).cuda()\n",
    "print(weights)\n",
    "train_loader = DataLoader(train_dataset, batch_size = BATCH_SIZE, shuffle = True, num_workers = NWORKERS)\n",
    "\n",
    "test_dataset = ChangeDetectionDataset(PATH_TO_DATASET, train = False, stride = TRAIN_STRIDE)\n",
    "test_loader = DataLoader(test_dataset, batch_size = BATCH_SIZE, shuffle = True, num_workers = NWORKERS)\n",
    "\n",
    "\n",
    "print('DATASETS OK')"
   ]
  },
  {
   "cell_type": "code",
   "execution_count": 15,
   "metadata": {
    "colab": {
     "base_uri": "https://localhost:8080/"
    },
    "executionInfo": {
     "elapsed": 68,
     "status": "ok",
     "timestamp": 1662468213346,
     "user": {
      "displayName": "Juan Amieva",
      "userId": "03461442106805226698"
     },
     "user_tz": -120
    },
    "id": "c9_RDF1g8In2",
    "outputId": "156da4fc-c93b-4bcf-e35e-7fc7a5bc0c3a"
   },
   "outputs": [
    {
     "name": "stdout",
     "output_type": "stream",
     "text": [
      "tensor([0.2000, 1.8000], device='cuda:0')\n"
     ]
    }
   ],
   "source": [
    " print(weights)"
   ]
  },
  {
   "cell_type": "code",
   "execution_count": 16,
   "metadata": {
    "colab": {
     "base_uri": "https://localhost:8080/"
    },
    "executionInfo": {
     "elapsed": 59,
     "status": "ok",
     "timestamp": 1662468213348,
     "user": {
      "displayName": "Juan Amieva",
      "userId": "03461442106805226698"
     },
     "user_tz": -120
    },
    "id": "xvKLo7oE8In3",
    "outputId": "034b47fd-deb2-41fe-8507-a2a9eb29356f"
   },
   "outputs": [
    {
     "name": "stdout",
     "output_type": "stream",
     "text": [
      "NETWORK OK\n"
     ]
    }
   ],
   "source": [
    "net, net_name = Unet(2*13, 2), 'FC-EF'\n",
    "#     net, net_name = SiamUnet_conc(13, 2), 'FC-Siam-conc'\n",
    "#     net, net_name = SiamUnet_diff(13, 2), 'FC-Siam-diff'\n",
    "#     net, net_name = FresUNet(2*MAX_BAND_SUBSET, 2), 'FresUNet'\n",
    "\n",
    "net.cuda()\n",
    "\n",
    "criterion = nn.NLLLoss(weight=weights) # to be used with logsoftmax output\n",
    "\n",
    "print('NETWORK OK')"
   ]
  },
  {
   "cell_type": "code",
   "execution_count": 17,
   "metadata": {
    "colab": {
     "base_uri": "https://localhost:8080/"
    },
    "executionInfo": {
     "elapsed": 56,
     "status": "ok",
     "timestamp": 1662468213351,
     "user": {
      "displayName": "Juan Amieva",
      "userId": "03461442106805226698"
     },
     "user_tz": -120
    },
    "id": "Xr89GiWh8In4",
    "outputId": "a7e1ee65-d6c4-472e-ce63-6ac1eddb5769"
   },
   "outputs": [
    {
     "name": "stdout",
     "output_type": "stream",
     "text": [
      "Number of trainable parameters: 1109794\n"
     ]
    }
   ],
   "source": [
    "def count_parameters(model):\n",
    "    return sum(p.numel() for p in model.parameters() if p.requires_grad)\n",
    "\n",
    "print('Number of trainable parameters:', count_parameters(net))"
   ]
  },
  {
   "cell_type": "code",
   "execution_count": 18,
   "metadata": {
    "executionInfo": {
     "elapsed": 366,
     "status": "ok",
     "timestamp": 1662468213666,
     "user": {
      "displayName": "Juan Amieva",
      "userId": "03461442106805226698"
     },
     "user_tz": -120
    },
    "id": "Nx_mKTd98In4"
   },
   "outputs": [],
   "source": [
    "# net.load_state_dict(torch.load('net-best_epoch-1_fm-0.7394933126157746.pth.tar'))\n",
    "\n",
    "def train(n_epochs = N_EPOCHS, save = True):\n",
    "    t = np.linspace(1, n_epochs, n_epochs)\n",
    "    \n",
    "    epoch_train_loss = 0 * t\n",
    "    epoch_train_accuracy = 0 * t\n",
    "    epoch_train_change_accuracy = 0 * t\n",
    "    epoch_train_nochange_accuracy = 0 * t\n",
    "    epoch_train_precision = 0 * t\n",
    "    epoch_train_recall = 0 * t\n",
    "    epoch_train_Fmeasure = 0 * t\n",
    "    epoch_test_loss = 0 * t\n",
    "    epoch_test_accuracy = 0 * t\n",
    "    epoch_test_change_accuracy = 0 * t\n",
    "    epoch_test_nochange_accuracy = 0 * t\n",
    "    epoch_test_precision = 0 * t\n",
    "    epoch_test_recall = 0 * t\n",
    "    epoch_test_Fmeasure = 0 * t\n",
    "    \n",
    "#     mean_acc = 0\n",
    "#     best_mean_acc = 0\n",
    "    fm = 0\n",
    "    best_fm = 0\n",
    "    \n",
    "    lss = 1000\n",
    "    best_lss = 1000\n",
    "    \n",
    "    plt.figure(num=1)\n",
    "    plt.figure(num=2)\n",
    "    plt.figure(num=3)\n",
    "    \n",
    "    \n",
    "    optimizer = torch.optim.Adam(net.parameters(), weight_decay=1e-4)\n",
    "#     optimizer = torch.optim.Adam(net.parameters(), lr=0.0005)\n",
    "        \n",
    "    \n",
    "    scheduler = torch.optim.lr_scheduler.ExponentialLR(optimizer, 0.95)\n",
    "    \n",
    "    \n",
    "    for epoch_index in tqdm(range(n_epochs)):\n",
    "        net.train()\n",
    "        print('Epoch: ' + str(epoch_index + 1) + ' of ' + str(N_EPOCHS))\n",
    "\n",
    "        tot_count = 0\n",
    "        tot_loss = 0\n",
    "        tot_accurate = 0\n",
    "        class_correct = list(0. for i in range(2))\n",
    "        class_total = list(0. for i in range(2))\n",
    "#         for batch_index, batch in enumerate(tqdm(data_loader)):\n",
    "        for batch in train_loader:\n",
    "            I1 = Variable(batch['I1'].float().cuda())\n",
    "            I2 = Variable(batch['I2'].float().cuda())\n",
    "            label = torch.squeeze(Variable(batch['label'].cuda()))\n",
    "\n",
    "            optimizer.zero_grad()\n",
    "            output = net(I1, I2)\n",
    "            loss = criterion(output, label.long())\n",
    "            loss.backward()\n",
    "            optimizer.step()\n",
    "            \n",
    "        scheduler.step()\n",
    "\n",
    "\n",
    "        epoch_train_loss[epoch_index], epoch_train_accuracy[epoch_index], cl_acc, pr_rec = test(train_dataset)\n",
    "        epoch_train_nochange_accuracy[epoch_index] = cl_acc[0]\n",
    "        epoch_train_change_accuracy[epoch_index] = cl_acc[1]\n",
    "        epoch_train_precision[epoch_index] = pr_rec[0]\n",
    "        epoch_train_recall[epoch_index] = pr_rec[1]\n",
    "        epoch_train_Fmeasure[epoch_index] = pr_rec[2]\n",
    "        \n",
    "#         epoch_test_loss[epoch_index], epoch_test_accuracy[epoch_index], cl_acc, pr_rec = test(test_dataset)\n",
    "        epoch_test_loss[epoch_index], epoch_test_accuracy[epoch_index], cl_acc, pr_rec = test(test_dataset)\n",
    "        epoch_test_nochange_accuracy[epoch_index] = cl_acc[0]\n",
    "        epoch_test_change_accuracy[epoch_index] = cl_acc[1]\n",
    "        epoch_test_precision[epoch_index] = pr_rec[0]\n",
    "        epoch_test_recall[epoch_index] = pr_rec[1]\n",
    "        epoch_test_Fmeasure[epoch_index] = pr_rec[2]\n",
    "\n",
    "        plt.figure(num=1)\n",
    "        plt.clf()\n",
    "        l1_1, = plt.plot(t[:epoch_index + 1], epoch_train_loss[:epoch_index + 1], label='Train loss')\n",
    "        l1_2, = plt.plot(t[:epoch_index + 1], epoch_test_loss[:epoch_index + 1], label='Test loss')\n",
    "        plt.legend(handles=[l1_1, l1_2])\n",
    "        plt.grid()\n",
    "#         plt.gcf().gca().set_ylim(bottom = 0)\n",
    "        plt.gcf().gca().set_xlim(left = 0)\n",
    "        plt.title('Loss')\n",
    "        display.clear_output(wait=True)\n",
    "        display.display(plt.gcf())\n",
    "\n",
    "        plt.figure(num=2)\n",
    "        plt.clf()\n",
    "        l2_1, = plt.plot(t[:epoch_index + 1], epoch_train_accuracy[:epoch_index + 1], label='Train accuracy')\n",
    "        l2_2, = plt.plot(t[:epoch_index + 1], epoch_test_accuracy[:epoch_index + 1], label='Test accuracy')\n",
    "        plt.legend(handles=[l2_1, l2_2])\n",
    "        plt.grid()\n",
    "        plt.gcf().gca().set_ylim(0, 100)\n",
    "#         plt.gcf().gca().set_ylim(bottom = 0)\n",
    "#         plt.gcf().gca().set_xlim(left = 0)\n",
    "        plt.title('Accuracy')\n",
    "        display.clear_output(wait=True)\n",
    "        display.display(plt.gcf())\n",
    "\n",
    "        plt.figure(num=3)\n",
    "        plt.clf()\n",
    "        l3_1, = plt.plot(t[:epoch_index + 1], epoch_train_nochange_accuracy[:epoch_index + 1], label='Train accuracy: no change')\n",
    "        l3_2, = plt.plot(t[:epoch_index + 1], epoch_train_change_accuracy[:epoch_index + 1], label='Train accuracy: change')\n",
    "        l3_3, = plt.plot(t[:epoch_index + 1], epoch_test_nochange_accuracy[:epoch_index + 1], label='Test accuracy: no change')\n",
    "        l3_4, = plt.plot(t[:epoch_index + 1], epoch_test_change_accuracy[:epoch_index + 1], label='Test accuracy: change')\n",
    "        plt.legend(handles=[l3_1, l3_2, l3_3, l3_4])\n",
    "        plt.grid()\n",
    "        plt.gcf().gca().set_ylim(0, 100)\n",
    "#         plt.gcf().gca().set_ylim(bottom = 0)\n",
    "#         plt.gcf().gca().set_xlim(left = 0)\n",
    "        plt.title('Accuracy per class')\n",
    "        display.clear_output(wait=True)\n",
    "        display.display(plt.gcf())\n",
    "\n",
    "        plt.figure(num=4)\n",
    "        plt.clf()\n",
    "        l4_1, = plt.plot(t[:epoch_index + 1], epoch_train_precision[:epoch_index + 1], label='Train precision')\n",
    "        l4_2, = plt.plot(t[:epoch_index + 1], epoch_train_recall[:epoch_index + 1], label='Train recall')\n",
    "        l4_3, = plt.plot(t[:epoch_index + 1], epoch_train_Fmeasure[:epoch_index + 1], label='Train Dice/F1')\n",
    "        l4_4, = plt.plot(t[:epoch_index + 1], epoch_test_precision[:epoch_index + 1], label='Test precision')\n",
    "        l4_5, = plt.plot(t[:epoch_index + 1], epoch_test_recall[:epoch_index + 1], label='Test recall')\n",
    "        l4_6, = plt.plot(t[:epoch_index + 1], epoch_test_Fmeasure[:epoch_index + 1], label='Test Dice/F1')\n",
    "        plt.legend(handles=[l4_1, l4_2, l4_3, l4_4, l4_5, l4_6])\n",
    "        plt.grid()\n",
    "        plt.gcf().gca().set_ylim(0, 1)\n",
    "#         plt.gcf().gca().set_ylim(bottom = 0)\n",
    "#         plt.gcf().gca().set_xlim(left = 0)\n",
    "        plt.title('Precision, Recall and F-measure')\n",
    "        display.clear_output(wait=True)\n",
    "        display.display(plt.gcf())\n",
    "        \n",
    "        \n",
    "#         mean_acc = (epoch_test_nochange_accuracy[epoch_index] + epoch_test_change_accuracy[epoch_index])/2\n",
    "#         if mean_acc > best_mean_acc:\n",
    "#             best_mean_acc = mean_acc\n",
    "#             save_str = 'net-best_epoch-' + str(epoch_index + 1) + '_acc-' + str(mean_acc) + '.pth.tar'\n",
    "#             torch.save(net.state_dict(), save_str)\n",
    "        \n",
    "        \n",
    "#         fm = pr_rec[2]\n",
    "        fm = epoch_train_Fmeasure[epoch_index]\n",
    "        if fm > best_fm:\n",
    "            best_fm = fm\n",
    "            save_str = 'net-best_epoch-' + str(epoch_index + 1) + '_fm-' + str(fm) + '.pth.tar'\n",
    "            torch.save(net.state_dict(), save_str)\n",
    "        \n",
    "        lss = epoch_train_loss[epoch_index]\n",
    "        if lss < best_lss:\n",
    "            best_lss = lss\n",
    "            save_str = 'net-best_epoch-' + str(epoch_index + 1) + '_loss-' + str(lss) + '.pth.tar'\n",
    "            torch.save(net.state_dict(), save_str)\n",
    "            \n",
    "            \n",
    "#         print('Epoch loss: ' + str(tot_loss/tot_count))\n",
    "        if save:\n",
    "            im_format = 'png'\n",
    "    #         im_format = 'eps'\n",
    "\n",
    "            plt.figure(num=1)\n",
    "            plt.savefig(PATH_OUTPUTS + net_name + '-01-loss.' + im_format)\n",
    "\n",
    "            plt.figure(num=2)\n",
    "            plt.savefig(PATH_OUTPUTS + net_name + '-02-accuracy.' + im_format)\n",
    "\n",
    "            plt.figure(num=3)\n",
    "            plt.savefig(PATH_OUTPUTS + net_name + '-03-accuracy-per-class.' + im_format)\n",
    "\n",
    "            plt.figure(num=4)\n",
    "            plt.savefig(PATH_OUTPUTS + net_name + '-04-prec-rec-fmeas.' + im_format)\n",
    "        \n",
    "    out = {'train_loss': epoch_train_loss[-1],\n",
    "           'train_accuracy': epoch_train_accuracy[-1],\n",
    "           'train_nochange_accuracy': epoch_train_nochange_accuracy[-1],\n",
    "           'train_change_accuracy': epoch_train_change_accuracy[-1],\n",
    "           'test_loss': epoch_test_loss[-1],\n",
    "           'test_accuracy': epoch_test_accuracy[-1],\n",
    "           'test_nochange_accuracy': epoch_test_nochange_accuracy[-1],\n",
    "           'test_change_accuracy': epoch_test_change_accuracy[-1]}\n",
    "    \n",
    "    print('pr_c, rec_c, f_meas, pr_nc, rec_nc')\n",
    "    print(pr_rec)\n",
    "    \n",
    "    return out\n",
    "\n",
    "L = 1024\n",
    "N = 2\n",
    "\n",
    "def test(dset):\n",
    "    net.eval()\n",
    "    tot_loss = 0\n",
    "    tot_count = 0\n",
    "    tot_accurate = 0\n",
    "    \n",
    "    n = 2\n",
    "    class_correct = list(0. for i in range(n))\n",
    "    class_total = list(0. for i in range(n))\n",
    "    class_accuracy = list(0. for i in range(n))\n",
    "    \n",
    "    tp = 0\n",
    "    tn = 0\n",
    "    fp = 0\n",
    "    fn = 0\n",
    "    \n",
    "    for img_index in dset.names:\n",
    "        I1_full, I2_full, cm_full = dset.get_img(img_index)\n",
    "        \n",
    "        s = cm_full.shape\n",
    "        \n",
    "\n",
    "        steps0 = np.arange(0,s[0],ceil(s[0]/N))\n",
    "        steps1 = np.arange(0,s[1],ceil(s[1]/N))\n",
    "        for ii in range(N):\n",
    "            for jj in range(N):\n",
    "                xmin = steps0[ii]\n",
    "                if ii == N-1:\n",
    "                    xmax = s[0]\n",
    "                else:\n",
    "                    xmax = steps0[ii+1]\n",
    "                ymin = jj\n",
    "                if jj == N-1:\n",
    "                    ymax = s[1]\n",
    "                else:\n",
    "                    ymax = steps1[jj+1]\n",
    "                I1 = I1_full[:, xmin:xmax, ymin:ymax]\n",
    "                I2 = I2_full[:, xmin:xmax, ymin:ymax]\n",
    "                cm = cm_full[xmin:xmax, ymin:ymax]\n",
    "\n",
    "                I1 = Variable(torch.unsqueeze(I1, 0).float()).cuda()\n",
    "                I2 = Variable(torch.unsqueeze(I2, 0).float()).cuda()\n",
    "                cm = Variable(torch.unsqueeze(torch.from_numpy(1.0*cm),0).float()).cuda()\n",
    "\n",
    "\n",
    "                output = net(I1, I2)\n",
    "                loss = criterion(output, cm.long())\n",
    "        #         print(loss)\n",
    "                tot_loss += loss.data * np.prod(cm.size())\n",
    "                tot_count += np.prod(cm.size())\n",
    "\n",
    "                _, predicted = torch.max(output.data, 1)\n",
    "\n",
    "                c = (predicted.int() == cm.data.int())\n",
    "                for i in range(c.size(1)):\n",
    "                    for j in range(c.size(2)):\n",
    "                        l = int(cm.data[0, i, j])\n",
    "                        class_correct[l] += c[0, i, j]\n",
    "                        class_total[l] += 1\n",
    "                        \n",
    "                pr = (predicted.int() > 0).cpu().numpy()\n",
    "                gt = (cm.data.int() > 0).cpu().numpy()\n",
    "                \n",
    "                tp += np.logical_and(pr, gt).sum()\n",
    "                tn += np.logical_and(np.logical_not(pr), np.logical_not(gt)).sum()\n",
    "                fp += np.logical_and(pr, np.logical_not(gt)).sum()\n",
    "                fn += np.logical_and(np.logical_not(pr), gt).sum()\n",
    "        \n",
    "    net_loss = tot_loss/tot_count\n",
    "    net_accuracy = 100 * (tp + tn)/tot_count\n",
    "    \n",
    "    for i in range(n):\n",
    "        class_accuracy[i] = 100 * class_correct[i] / max(class_total[i],0.00001)\n",
    "\n",
    "    prec = tp / (tp + fp)\n",
    "    rec = tp / (tp + fn)\n",
    "    f_meas = 2 * prec * rec / (prec + rec)\n",
    "    prec_nc = tn / (tn + fn)\n",
    "    rec_nc = tn / (tn + fp)\n",
    "    \n",
    "    pr_rec = [prec, rec, f_meas, prec_nc, rec_nc]\n",
    "        \n",
    "    return net_loss, net_accuracy, class_accuracy, pr_rec\n",
    "    \n",
    "    \n",
    "\n",
    "\n",
    "\n",
    "    \n"
   ]
  },
  {
   "cell_type": "code",
   "execution_count": 19,
   "metadata": {
    "colab": {
     "base_uri": "https://localhost:8080/",
     "height": 1000
    },
    "executionInfo": {
     "elapsed": 3788767,
     "status": "ok",
     "timestamp": 1662472002424,
     "user": {
      "displayName": "Juan Amieva",
      "userId": "03461442106805226698"
     },
     "user_tz": -120
    },
    "id": "D8hbA4po8In6",
    "outputId": "66aa2f42-94f7-4600-b725-0ffdfe2ceca3"
   },
   "outputs": [
    {
     "data": {
      "image/png": "[encoded data removed]",
      "text/plain": [
       "<Figure size 432x288 with 1 Axes>"
      ]
     },
     "metadata": {},
     "output_type": "display_data"
    },
    {
     "name": "stderr",
     "output_type": "stream",
     "text": [
      "100%|██████████| 20/20 [1:03:07<00:00, 189.38s/it]\n"
     ]
    },
    {
     "name": "stdout",
     "output_type": "stream",
     "text": [
      "pr_c, rec_c, f_meas, pr_nc, rec_nc\n",
      "[0.3366351728674168, 0.3932635157140531, 0.36275262215400356, 0.911104367801009, 0.8891890003958367]\n",
      "{'train_loss': 0.5981736779212952, 'train_accuracy': 88.90012926691952, 'train_nochange_accuracy': 94.06877136230469, 'train_change_accuracy': 41.83421325683594, 'test_loss': 0.6761757135391235, 'test_accuracy': 82.71478008882008, 'test_nochange_accuracy': 88.91889953613281, 'test_change_accuracy': 39.326351165771484}\n",
      "Elapsed time:\n",
      "3787.815190553665\n"
     ]
    },
    {
     "data": {
      "image/png": "[encoded data removed]",
      "text/plain": [
       "<Figure size 432x288 with 1 Axes>"
      ]
     },
     "metadata": {
      "needs_background": "light"
     },
     "output_type": "display_data"
    },
    {
     "data": {
      "image/png": "[encoded data removed]",
      "text/plain": [
       "<Figure size 432x288 with 1 Axes>"
      ]
     },
     "metadata": {
      "needs_background": "light"
     },
     "output_type": "display_data"
    },
    {
     "data": {
      "image/png": "[encoded data removed]",
      "text/plain": [
       "<Figure size 432x288 with 1 Axes>"
      ]
     },
     "metadata": {
      "needs_background": "light"
     },
     "output_type": "display_data"
    },
    {
     "data": {
      "image/png": "[encoded data removed]",
      "text/plain": [
       "<Figure size 432x288 with 1 Axes>"
      ]
     },
     "metadata": {
      "needs_background": "light"
     },
     "output_type": "display_data"
    }
   ],
   "source": [
    "if LOAD_TRAINED:\n",
    "    #net.load_state_dict(torch.load('net_final.pth.tar'))\n",
    "    net.load_state_dict(torch.load(PATH_OUTPUTS+'net_final.pth.tar')) # FS\n",
    "    print('LOAD OK')\n",
    "else:\n",
    "    t_start = time.time()\n",
    "    out_dic = train()\n",
    "    t_end = time.time()\n",
    "    print(out_dic)\n",
    "    print('Elapsed time:')\n",
    "    print(t_end - t_start)"
   ]
  },
  {
   "cell_type": "code",
   "execution_count": 20,
   "metadata": {
    "colab": {
     "base_uri": "https://localhost:8080/"
    },
    "executionInfo": {
     "elapsed": 557,
     "status": "ok",
     "timestamp": 1662472002953,
     "user": {
      "displayName": "Juan Amieva",
      "userId": "03461442106805226698"
     },
     "user_tz": -120
    },
    "id": "4ed3y3RQ8In6",
    "outputId": "1772a9cd-57e7-44c6-ef09-98522bb4012d"
   },
   "outputs": [
    {
     "name": "stdout",
     "output_type": "stream",
     "text": [
      "SAVE OK\n"
     ]
    }
   ],
   "source": [
    "if not LOAD_TRAINED:\n",
    "    #torch.save(net.state_dict(), 'net_final.pth.tar')\n",
    "    torch.save(net.state_dict(), PATH_OUTPUTS+'net_final.pth.tar') # FS\n",
    "    print('SAVE OK')"
   ]
  },
  {
   "cell_type": "code",
   "execution_count": 21,
   "metadata": {
    "colab": {
     "base_uri": "https://localhost:8080/"
    },
    "executionInfo": {
     "elapsed": 1010,
     "status": "ok",
     "timestamp": 1662472003950,
     "user": {
      "displayName": "Juan Amieva",
      "userId": "03461442106805226698"
     },
     "user_tz": -120
    },
    "id": "WzUb1Ix18In6",
    "outputId": "164a5725-0621-4544-af1a-fa044853d119"
   },
   "outputs": [
    {
     "name": "stderr",
     "output_type": "stream",
     "text": [
      "  0%|          | 0/4 [00:00<?, ?it/s]/usr/local/lib/python3.7/dist-packages/ipykernel_launcher.py:10: UserWarning: drive/MyDrive/PRISMA_outputs/FresUNet-Po_01.png is a low contrast image\n",
      "  # Remove the CWD from sys.path while we load stuff.\n",
      "WARNING:imageio:Lossy conversion from int64 to uint8. Range [0, 255]. Convert image to uint8 prior to saving to suppress this warning.\n",
      " 25%|██▌       | 1/4 [00:00<00:00,  3.88it/s]/usr/local/lib/python3.7/dist-packages/ipykernel_launcher.py:10: UserWarning: drive/MyDrive/PRISMA_outputs/FresUNet-Shanghai.png is a low contrast image\n",
      "  # Remove the CWD from sys.path while we load stuff.\n",
      "WARNING:imageio:Lossy conversion from int64 to uint8. Range [0, 255]. Convert image to uint8 prior to saving to suppress this warning.\n",
      " 50%|█████     | 2/4 [00:00<00:00,  3.07it/s]/usr/local/lib/python3.7/dist-packages/ipykernel_launcher.py:10: UserWarning: drive/MyDrive/PRISMA_outputs/FresUNet-Indo_01.png is a low contrast image\n",
      "  # Remove the CWD from sys.path while we load stuff.\n",
      "WARNING:imageio:Lossy conversion from int64 to uint8. Range [0, 255]. Convert image to uint8 prior to saving to suppress this warning.\n",
      " 75%|███████▌  | 3/4 [00:00<00:00,  3.31it/s]/usr/local/lib/python3.7/dist-packages/ipykernel_launcher.py:10: UserWarning: drive/MyDrive/PRISMA_outputs/FresUNet-Aus_fire_01.png is a low contrast image\n",
      "  # Remove the CWD from sys.path while we load stuff.\n",
      "WARNING:imageio:Lossy conversion from int64 to uint8. Range [0, 255]. Convert image to uint8 prior to saving to suppress this warning.\n",
      "100%|██████████| 4/4 [00:01<00:00,  3.56it/s]"
     ]
    },
    {
     "name": "stdout",
     "output_type": "stream",
     "text": [
      "Elapsed time: 1.1340320110321045\n"
     ]
    },
    {
     "name": "stderr",
     "output_type": "stream",
     "text": [
      "\n"
     ]
    }
   ],
   "source": [
    "\n",
    "\n",
    "def save_test_results(dset):\n",
    "    for name in tqdm(dset.names):\n",
    "        with warnings.catch_warnings():\n",
    "            I1, I2, cm = dset.get_img(name)\n",
    "            I1 = Variable(torch.unsqueeze(I1, 0).float()).cuda()\n",
    "            I2 = Variable(torch.unsqueeze(I2, 0).float()).cuda()\n",
    "            out = net(I1, I2)\n",
    "            _, predicted = torch.max(out.data, 1)\n",
    "            I = np.stack((255*cm,255*np.squeeze(predicted.cpu().numpy()),255*cm),2)\n",
    "            io.imsave(PATH_OUTPUTS+f'{net_name}-{name}.png',I)\n",
    "\n",
    "\n",
    "\n",
    "t_start = time.time()\n",
    "# save_test_results(train_dataset)\n",
    "save_test_results(test_dataset)\n",
    "t_end = time.time()\n",
    "print('Elapsed time: {}'.format(t_end - t_start))\n"
   ]
  },
  {
   "cell_type": "code",
   "execution_count": 22,
   "metadata": {
    "colab": {
     "base_uri": "https://localhost:8080/"
    },
    "executionInfo": {
     "elapsed": 32620,
     "status": "ok",
     "timestamp": 1662472036549,
     "user": {
      "displayName": "Juan Amieva",
      "userId": "03461442106805226698"
     },
     "user_tz": -120
    },
    "id": "iRB2mThl8In7",
    "outputId": "fca8e0e0-313e-4ebd-8a55-a517582a9b13"
   },
   "outputs": [
    {
     "name": "stderr",
     "output_type": "stream",
     "text": [
      "100%|██████████| 4/4 [00:32<00:00,  8.07s/it]"
     ]
    },
    {
     "name": "stdout",
     "output_type": "stream",
     "text": [
      "{'class_accuracy': [88.65658569335938, 37.834354400634766],\n",
      " 'dice': 0.3483235642215206,\n",
      " 'kappa': 0.24668626175740319,\n",
      " 'net_accuracy': 82.30371475219727,\n",
      " 'net_loss': 0.6791658401489258,\n",
      " 'precision': 0.3227173043008584,\n",
      " 'recall': 0.378343531135084}\n"
     ]
    },
    {
     "name": "stderr",
     "output_type": "stream",
     "text": [
      "\n"
     ]
    }
   ],
   "source": [
    "L = 1024\n",
    "\n",
    "def kappa(tp, tn, fp, fn):\n",
    "    N = tp + tn + fp + fn\n",
    "    p0 = (tp + tn) / N\n",
    "    pe = ((tp+fp)*(tp+fn) + (tn+fp)*(tn+fn)) / (N * N)\n",
    "    \n",
    "    return (p0 - pe) / (1 - pe)\n",
    "\n",
    "def test(dset):\n",
    "    net.eval()\n",
    "    tot_loss = 0\n",
    "    tot_count = 0\n",
    "    tot_accurate = 0\n",
    "    \n",
    "    n = 2\n",
    "    class_correct = list(0. for i in range(n))\n",
    "    class_total = list(0. for i in range(n))\n",
    "    class_accuracy = list(0. for i in range(n))\n",
    "    \n",
    "    tp = 0\n",
    "    tn = 0\n",
    "    fp = 0\n",
    "    fn = 0\n",
    "    \n",
    "    for img_index in tqdm(dset.names):\n",
    "        I1_full, I2_full, cm_full = dset.get_img(img_index)\n",
    "        \n",
    "        s = cm_full.shape\n",
    "        \n",
    "        for ii in range(ceil(s[0]/L)):\n",
    "            for jj in range(ceil(s[1]/L)):\n",
    "                xmin = L*ii\n",
    "                xmax = min(L*(ii+1),s[1])\n",
    "                ymin = L*jj\n",
    "                ymax = min(L*(jj+1),s[1])\n",
    "                I1 = I1_full[:, xmin:xmax, ymin:ymax]\n",
    "                I2 = I2_full[:, xmin:xmax, ymin:ymax]\n",
    "                cm = cm_full[xmin:xmax, ymin:ymax]\n",
    "\n",
    "                I1 = Variable(torch.unsqueeze(I1, 0).float()).cuda()\n",
    "                I2 = Variable(torch.unsqueeze(I2, 0).float()).cuda()\n",
    "                cm = Variable(torch.unsqueeze(torch.from_numpy(1.0*cm),0).float()).cuda()\n",
    "\n",
    "                output = net(I1, I2)\n",
    "                    \n",
    "                loss = criterion(output, cm.long())\n",
    "                tot_loss += loss.data * np.prod(cm.size())\n",
    "                tot_count += np.prod(cm.size())\n",
    "\n",
    "                _, predicted = torch.max(output.data, 1)\n",
    "\n",
    "                c = (predicted.int() == cm.data.int())\n",
    "                for i in range(c.size(1)):\n",
    "                    for j in range(c.size(2)):\n",
    "                        l = int(cm.data[0, i, j])\n",
    "                        class_correct[l] += c[0, i, j]\n",
    "                        class_total[l] += 1\n",
    "                        \n",
    "                pr = (predicted.int() > 0).cpu().numpy()\n",
    "                gt = (cm.data.int() > 0).cpu().numpy()\n",
    "                \n",
    "                tp += np.logical_and(pr, gt).sum()\n",
    "                tn += np.logical_and(np.logical_not(pr), np.logical_not(gt)).sum()\n",
    "                fp += np.logical_and(pr, np.logical_not(gt)).sum()\n",
    "                fn += np.logical_and(np.logical_not(pr), gt).sum()\n",
    "        \n",
    "    net_loss = tot_loss/tot_count        \n",
    "    net_loss = float(net_loss.cpu().numpy())\n",
    "    \n",
    "    net_accuracy = 100 * (tp + tn)/tot_count\n",
    "    \n",
    "    for i in range(n):\n",
    "        class_accuracy[i] = 100 * class_correct[i] / max(class_total[i],0.00001)\n",
    "        class_accuracy[i] =  float(class_accuracy[i].cpu().numpy())\n",
    "\n",
    "    prec = tp / (tp + fp)\n",
    "    rec = tp / (tp + fn)\n",
    "    dice = 2 * prec * rec / (prec + rec)\n",
    "    prec_nc = tn / (tn + fn)\n",
    "    rec_nc = tn / (tn + fp)\n",
    "    \n",
    "    pr_rec = [prec, rec, dice, prec_nc, rec_nc]\n",
    "    \n",
    "    k = kappa(tp, tn, fp, fn)\n",
    "    \n",
    "    return {'net_loss': net_loss, \n",
    "            'net_accuracy': net_accuracy, \n",
    "            'class_accuracy': class_accuracy, \n",
    "            'precision': prec, \n",
    "            'recall': rec, \n",
    "            'dice': dice, \n",
    "            'kappa': k}\n",
    "\n",
    "results = test(test_dataset)\n",
    "pprint(results)"
   ]
  }
 ],
 "metadata": {
  "accelerator": "GPU",
  "colab": {
   "collapsed_sections": [],
   "provenance": [
    {
     "file_id": "11akTbdLkSOAfNTBsmsqpxx1rCPJ2vj47",
     "timestamp": 1661014575561
    },
    {
     "file_id": "https://github.com/fserva2/fully_convolutional_change_detection/blob/master/fully-convolutional-change-detection.ipynb",
     "timestamp": 1658410621786
    }
   ]
  },
  "gpuClass": "standard",
  "kernelspec": {
   "display_name": "Python 3 (ipykernel)",
   "language": "python",
   "name": "python3"
  },
  "language_info": {
   "codemirror_mode": {
    "name": "ipython",
    "version": 3
   },
   "file_extension": ".py",
   "mimetype": "text/x-python",
   "name": "python",
   "nbconvert_exporter": "python",
   "pygments_lexer": "ipython3",
   "version": "3.10.4"
  }
 },
 "nbformat": 4,
 "nbformat_minor": 4
}
